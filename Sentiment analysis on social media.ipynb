{
 "cells": [
  {
   "cell_type": "code",
   "execution_count": 1,
   "id": "0c9f1842-a034-42d2-8efe-19060ca61468",
   "metadata": {},
   "outputs": [],
   "source": [
    "import re\n",
    "import pandas as pd\n",
    "import numpy as np\n",
    "from collections import Counter\n",
    "import matplotlib.pyplot as plt\n",
    "from PIL import Image\n",
    "from wordcloud import WordCloud, STOPWORDS, ImageColorGenerator"
   ]
  },
  {
   "cell_type": "code",
   "execution_count": 2,
   "id": "dde09637-7157-4973-b1b8-9243ee42e5ae",
   "metadata": {},
   "outputs": [],
   "source": [
    "def date_time(s):\n",
    "    pattern='^([0-25]+)(/)([0-15]+)(/)([0-30]+), ([0-9]+):([0-9]+)[ ]?(AM|PM|am|pm)? -'\n",
    "    result=re.match(pattern, s)\n",
    "    if result:\n",
    "        return True\n",
    "    return False \n",
    "\n",
    "def find_contact(s):\n",
    "    s=s.split(\":\")\n",
    "    if len(s)==2:\n",
    "        return True\n",
    "    else:\n",
    "        return False\n",
    "    \n",
    "def getMassage(line):\n",
    "    splitline=line.split(' - ')\n",
    "    datetime= splitline[0];\n",
    "    date, time= datetime.split(', ')\n",
    "    message=\" \".join(splitline[1:])\n",
    "    \n",
    "    if find_contact(message):\n",
    "        splitmessage=message.split(\": \")\n",
    "        author=splitmessage[0]\n",
    "        message=splitmessage[1]\n",
    "    else:\n",
    "        author=None\n",
    "    return date, time, author, message"
   ]
  },
  {
   "cell_type": "code",
   "execution_count": 3,
   "id": "3969a40c-3425-41f4-ac2e-edccbfc7bd4b",
   "metadata": {},
   "outputs": [],
   "source": [
    "data=[]\n",
    "conversation='WhatsApp Chat with Workshop on AR_VR Technology .txt'\n",
    "with open(conversation, encoding=\"utf-8\") as fp:\n",
    "    fp.readline()\n",
    "    messageBuffer=[]\n",
    "    date, time, author= None, None, None\n",
    "    while True:\n",
    "        line=fp.readline()\n",
    "        if not line:\n",
    "            break\n",
    "        line=line.strip()\n",
    "        if date_time(line):\n",
    "            if len(messageBuffer) >0:\n",
    "                data.append([date, time, author, ''.join(messageBuffer)])\n",
    "            messageBuffer.clear()\n",
    "            date, time, author, message=getMassage(line)\n",
    "            messageBuffer.append(message)\n",
    "        else:\n",
    "            messageBuffer.append(line)"
   ]
  },
  {
   "cell_type": "code",
   "execution_count": 5,
   "id": "b4bc1691-fc9a-4f35-bac6-08694dfc0948",
   "metadata": {},
   "outputs": [
    {
     "data": {
      "text/html": [
       "<div>\n",
       "<style scoped>\n",
       "    .dataframe tbody tr th:only-of-type {\n",
       "        vertical-align: middle;\n",
       "    }\n",
       "\n",
       "    .dataframe tbody tr th {\n",
       "        vertical-align: top;\n",
       "    }\n",
       "\n",
       "    .dataframe thead th {\n",
       "        text-align: right;\n",
       "    }\n",
       "</style>\n",
       "<table border=\"1\" class=\"dataframe\">\n",
       "  <thead>\n",
       "    <tr style=\"text-align: right;\">\n",
       "      <th></th>\n",
       "      <th>Date</th>\n",
       "      <th>Time</th>\n",
       "      <th>contact</th>\n",
       "      <th>Message</th>\n",
       "      <th>positive</th>\n",
       "      <th>negative</th>\n",
       "      <th>neutral</th>\n",
       "    </tr>\n",
       "  </thead>\n",
       "  <tbody>\n",
       "  </tbody>\n",
       "</table>\n",
       "</div>"
      ],
      "text/plain": [
       "Empty DataFrame\n",
       "Columns: [Date, Time, contact, Message, positive, negative, neutral]\n",
       "Index: []"
      ]
     },
     "execution_count": 5,
     "metadata": {},
     "output_type": "execute_result"
    }
   ],
   "source": [
    "df=pd.DataFrame(data, columns=[\"Date\", \"Time\", \"contact\", \"Message\"])\n",
    "df['Date']=pd.to_datetime(df['Date'])\n",
    "\n",
    "data=df.dropna()\n",
    "from nltk.sentiment.vader import SentimentIntensityAnalyzer\n",
    "sentiments=SentimentIntensityAnalyzer\n",
    "data[\"positive\"]=[sentiments.polarity_scores(i)[\"pos\"] for i in data[\"Message\"]]\n",
    "data[\"negative\"]=[sentiments.polarity_scores(i)[\"neg\"] for i in data[\"Message\"]]\n",
    "data[\"neutral\"]=[sentiments.polarity_scores(i)[\"neu\"] for i in data[\"Message\"]]\n",
    "\n",
    "data.head()"
   ]
  },
  {
   "cell_type": "code",
   "execution_count": 6,
   "id": "63b7f537-1670-4baf-a30e-7a80b6e6e405",
   "metadata": {},
   "outputs": [],
   "source": [
    "from nltk.sentiment.vader import SentimentIntensityAnalyzer"
   ]
  },
  {
   "cell_type": "code",
   "execution_count": 7,
   "id": "2db43307-09b0-4261-b36f-1b04c1acf7f0",
   "metadata": {},
   "outputs": [
    {
     "name": "stdout",
     "output_type": "stream",
     "text": [
      "Empty DataFrame\n",
      "Columns: [Date, Time, contact, Message, positive, negative, neutral]\n",
      "Index: []\n"
     ]
    }
   ],
   "source": [
    "df=pd.DataFrame(data, columns=[\"Date\", \"Time\", \"contact\", \"Message\"])\n",
    "df['Date']=pd.to_datetime(df['Date'])\n",
    "\n",
    "data=df.dropna()\n",
    "from nltk.sentiment.vader import SentimentIntensityAnalyzer\n",
    "sentiments=SentimentIntensityAnalyzer\n",
    "data[\"positive\"]=[sentiments.polarity_scores(i)[\"pos\"] for i in data[\"Message\"]]\n",
    "data[\"negative\"]=[sentiments.polarity_scores(i)[\"neg\"] for i in data[\"Message\"]]\n",
    "data[\"neutral\"]=[sentiments.polarity_scores(i)[\"neu\"] for i in data[\"Message\"]]\n",
    "\n",
    "print (data.head(10))"
   ]
  },
  {
   "cell_type": "code",
   "execution_count": 8,
   "id": "d282e2e8-d244-4bab-9bf1-5d141fab1985",
   "metadata": {},
   "outputs": [],
   "source": [
    "x=sum(data[\"positive\"])\n",
    "y=sum(data[\"negative\"])\n",
    "z=sum(data[\"neutral\"])\n",
    "\n",
    "def score(a,b,c):\n",
    "    if (a>b) and (a>c):\n",
    "        print(\"Positive \")\n",
    "    if (b>a) and (b>c):\n",
    "        print(\"Negative\")\n",
    "    if (c>a) and (c>b):\n",
    "        print(\"Neutal\")\n",
    "\n",
    "score(x,y,z)"
   ]
  },
  {
   "cell_type": "code",
   "execution_count": 9,
   "id": "13410d11-dc84-434e-9803-95f8dd162aa3",
   "metadata": {},
   "outputs": [
    {
     "data": {
      "text/plain": [
       "array([], dtype=object)"
      ]
     },
     "execution_count": 9,
     "metadata": {},
     "output_type": "execute_result"
    }
   ],
   "source": [
    "df.contact.unique()"
   ]
  },
  {
   "cell_type": "code",
   "execution_count": 10,
   "id": "c62bdd32-2cca-4613-9da6-6659ccb7ddd4",
   "metadata": {},
   "outputs": [
    {
     "name": "stdout",
     "output_type": "stream",
     "text": [
      "0\n"
     ]
    }
   ],
   "source": [
    "media_messages = df[df['Message'] == 'Oke'].shape[0]\n",
    "print(media_messages)"
   ]
  },
  {
   "cell_type": "code",
   "execution_count": 11,
   "id": "14ef012d-a342-429b-b77d-ef98eadfee0b",
   "metadata": {},
   "outputs": [
    {
     "name": "stdout",
     "output_type": "stream",
     "text": [
      "There are 0 words in all the messages.\n"
     ]
    },
    {
     "data": {
      "image/png": "[encoded data removed]",
      "text/plain": [
       "<Figure size 1000x500 with 1 Axes>"
      ]
     },
     "metadata": {},
     "output_type": "display_data"
    }
   ],
   "source": [
    "text = \" \".join(review for review in df.Message)\n",
    "print (\"There are {} words in all the messages.\".format(len(text)))\n",
    "stopwords = set(STOPWORDS)\n",
    "plt.figure( figsize=(10,5))\n",
    "plt.axis(\"off\")\n",
    "plt.show()"
   ]
  }
 ],
 "metadata": {
  "kernelspec": {
   "display_name": "Python 3 (ipykernel)",
   "language": "python",
   "name": "python3"
  },
  "language_info": {
   "codemirror_mode": {
    "name": "ipython",
    "version": 3
   },
   "file_extension": ".py",
   "mimetype": "text/x-python",
   "name": "python",
   "nbconvert_exporter": "python",
   "pygments_lexer": "ipython3",
   "version": "3.12.1"
  }
 },
 "nbformat": 4,
 "nbformat_minor": 5
}
